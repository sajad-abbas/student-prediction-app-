{
 "cells": [
  {
   "cell_type": "code",
   "execution_count": 3,
   "id": "98638cd1-6df0-483d-8a6f-0ed746f5c5e0",
   "metadata": {},
   "outputs": [
    {
     "data": {
      "application/vnd.jupyter.widget-view+json": {
       "model_id": "1895bc893f9e44c98772227340b10624",
       "version_major": 2,
       "version_minor": 0
      },
      "text/plain": [
       "FloatText(value=0.0, description='Study Hours:')"
      ]
     },
     "metadata": {},
     "output_type": "display_data"
    },
    {
     "data": {
      "application/vnd.jupyter.widget-view+json": {
       "model_id": "a27a7d72e3cf4a81ae60898169e33d67",
       "version_major": 2,
       "version_minor": 0
      },
      "text/plain": [
       "FloatText(value=0.0, description='Attendance %:')"
      ]
     },
     "metadata": {},
     "output_type": "display_data"
    },
    {
     "data": {
      "application/vnd.jupyter.widget-view+json": {
       "model_id": "9a8baff24a6049d884f1455f23779038",
       "version_major": 2,
       "version_minor": 0
      },
      "text/plain": [
       "Button(description='Predict', style=ButtonStyle())"
      ]
     },
     "metadata": {},
     "output_type": "display_data"
    },
    {
     "data": {
      "application/vnd.jupyter.widget-view+json": {
       "model_id": "8ca77ba96df64c3b9c565ab4b8f8e662",
       "version_major": 2,
       "version_minor": 0
      },
      "text/plain": [
       "Output()"
      ]
     },
     "metadata": {},
     "output_type": "display_data"
    }
   ],
   "source": [
    "# استيراد المكتبات الضرورية\n",
    "import pandas as pd\n",
    "import numpy as np\n",
    "from sklearn.linear_model import LogisticRegression\n",
    "from sklearn.model_selection import train_test_split\n",
    "from sklearn.preprocessing import StandardScaler\n",
    "from sklearn.metrics import accuracy_score\n",
    "import ipywidgets as widgets\n",
    "from IPython.display import display, clear_output\n",
    "\n",
    "# إنشاء البيانات\n",
    "data = {\n",
    "    'study_hours': [2, 3, 4, 5, 6, 1, 1.5, 3.5, 2.5, 4.5],\n",
    "    'attendance': [70, 80, 85, 90, 95, 60, 65, 82, 75, 88],\n",
    "    'passed': [0, 0, 1, 1, 1, 0, 0, 1, 0, 1]\n",
    "}\n",
    "\n",
    "df = pd.DataFrame(data)\n",
    "\n",
    "# تقسيم البيانات\n",
    "X = df[['study_hours', 'attendance']]\n",
    "y = df['passed']\n",
    "\n",
    "# مقياس القيم (Scaling)\n",
    "scaler = StandardScaler()\n",
    "X_scaled = scaler.fit_transform(X)\n",
    "\n",
    "# تدريب النموذج\n",
    "model = LogisticRegression()\n",
    "model.fit(X_scaled, y)\n",
    "\n",
    "# إنشاء واجهة الإدخال\n",
    "study_hours_input = widgets.FloatText(description='Study Hours:', value=0)\n",
    "attendance_input = widgets.FloatText(description='Attendance %:', value=0)\n",
    "predict_button = widgets.Button(description='Predict')\n",
    "output = widgets.Output()\n",
    "\n",
    "# دالة التنبؤ\n",
    "def on_predict_clicked(b):\n",
    "    with output:\n",
    "        clear_output()\n",
    "        study_hours = study_hours_input.value\n",
    "        attendance = attendance_input.value\n",
    "\n",
    "        input_data = np.array([[study_hours, attendance]])\n",
    "        input_scaled = scaler.transform(input_data)\n",
    "        prediction = model.predict(input_scaled)\n",
    "\n",
    "        if prediction[0] == 1:\n",
    "            print(\"✅ النتيجة: الطالب سينجح (PASS)\")\n",
    "        else:\n",
    "            print(\"❌ النتيجة: الطالب سيفشل (FAIL)\")\n",
    "\n",
    "# ربط الزر بالدالة\n",
    "predict_button.on_click(on_predict_clicked)\n",
    "\n",
    "# عرض الواجهة\n",
    "display(study_hours_input, attendance_input, predict_button, output)\n"
   ]
  },
  {
   "cell_type": "code",
   "execution_count": null,
   "id": "9e567f0f-9ce3-4bbb-a387-960ad4e8dfe3",
   "metadata": {},
   "outputs": [],
   "source": []
  }
 ],
 "metadata": {
  "kernelspec": {
   "display_name": "Python 3 (ipykernel)",
   "language": "python",
   "name": "python3"
  },
  "language_info": {
   "codemirror_mode": {
    "name": "ipython",
    "version": 3
   },
   "file_extension": ".py",
   "mimetype": "text/x-python",
   "name": "python",
   "nbconvert_exporter": "python",
   "pygments_lexer": "ipython3",
   "version": "3.13.5"
  }
 },
 "nbformat": 4,
 "nbformat_minor": 5
}
