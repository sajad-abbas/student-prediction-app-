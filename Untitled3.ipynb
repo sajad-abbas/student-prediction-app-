{
 "cells": [
  {
   "cell_type": "code",
   "execution_count": 1,
   "id": "74da4dd9-e318-474e-b098-1994d849841c",
   "metadata": {},
   "outputs": [
    {
     "name": "stdout",
     "output_type": "stream",
     "text": [
      "Model trained and saved as model.pkl\n"
     ]
    }
   ],
   "source": [
    "import pandas as pd\n",
    "from sklearn.linear_model import LogisticRegression\n",
    "from sklearn.model_selection import train_test_split\n",
    "import joblib\n",
    "\n",
    "# بيانات بسيطة (ممكن تستخدم بياناتك الحقيقية لو موجودة)\n",
    "data = {\n",
    "    'study_hours': [2, 3, 4, 5, 6, 1, 1.5, 3.5, 2.5, 4.5],\n",
    "    'attendance': [70, 80, 85, 90, 95, 60, 65, 82, 75, 88],\n",
    "    'passed': [0, 0, 1, 1, 1, 0, 0, 1, 0, 1]\n",
    "}\n",
    "\n",
    "df = pd.DataFrame(data)\n",
    "\n",
    "X = df[['study_hours', 'attendance']]\n",
    "y = df['passed']\n",
    "\n",
    "# تقسيم البيانات (اختياري)\n",
    "X_train, X_test, y_train, y_test = train_test_split(X, y, test_size=0.2, random_state=42)\n",
    "\n",
    "# إنشاء النموذج وتدريبه\n",
    "model = LogisticRegression()\n",
    "model.fit(X_train, y_train)\n",
    "\n",
    "# حفظ النموذج في ملف model.pkl\n",
    "joblib.dump(model, 'model.pkl')\n",
    "\n",
    "print(\"Model trained and saved as model.pkl\")\n"
   ]
  },
  {
   "cell_type": "code",
   "execution_count": null,
   "id": "db357e3a-db10-4163-ac47-e6fca696785d",
   "metadata": {},
   "outputs": [],
   "source": []
  }
 ],
 "metadata": {
  "kernelspec": {
   "display_name": "Python 3 (ipykernel)",
   "language": "python",
   "name": "python3"
  },
  "language_info": {
   "codemirror_mode": {
    "name": "ipython",
    "version": 3
   },
   "file_extension": ".py",
   "mimetype": "text/x-python",
   "name": "python",
   "nbconvert_exporter": "python",
   "pygments_lexer": "ipython3",
   "version": "3.13.5"
  }
 },
 "nbformat": 4,
 "nbformat_minor": 5
}
